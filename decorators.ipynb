{
 "cells": [
  {
   "cell_type": "markdown",
   "metadata": {},
   "source": [
    "Decorators : Are a very powerful and useful tool in Python since it allows programmers to modify the behaviour of a function or class. Decorators allow us to wrap another function in order to extend the behaviour of the wrapped function, without permanently modifying it. "
   ]
  },
  {
   "cell_type": "markdown",
   "metadata": {},
   "source": [
    "But before diving deep into decorators let us understand some concepts that will come in handy in learning the decorators."
   ]
  },
  {
   "cell_type": "markdown",
   "metadata": {},
   "source": [
    "Functions are first class objects \n",
    "A function is an instance of the Object type.\n",
    "You can store the function in a variable.\n",
    "You can pass the function as a parameter to another function.\n",
    "You can return the function from a function.\n",
    "You can store them in data structures such as hash tables, lists, …"
   ]
  },
  {
   "cell_type": "code",
   "execution_count": 10,
   "metadata": {},
   "outputs": [
    {
     "name": "stdout",
     "output_type": "stream",
     "text": [
      "hello from wrap 2 function\n",
      "hello from wrap 1 function\n",
      "Hi from wrapped function\n"
     ]
    }
   ],
   "source": [
    "def decorator2(funct):\n",
    "    def wrapper():\n",
    "        print(\"hello from wrap 2 function\")\n",
    "        funct()\n",
    "    return wrapper\n",
    "\n",
    "def decorator1(funct):\n",
    "    def wrapper():\n",
    "        print(\"hello from wrap 1 function\")\n",
    "        funct()\n",
    "    return wrapper\n",
    "\n",
    "@decorator2\n",
    "@decorator1\n",
    "def funct():\n",
    "    print(\"Hi from wrapped function\")\n",
    "    \n",
    "funct()"
   ]
  },
  {
   "cell_type": "code",
   "execution_count": 20,
   "metadata": {},
   "outputs": [
    {
     "name": "stdout",
     "output_type": "stream",
     "text": [
      "some_function took 0.04 seconds to execute\n",
      "hello 123.092\n"
     ]
    }
   ],
   "source": [
    "import time\n",
    "# Define a decorator function\n",
    "def timing_decorator(func):\n",
    "    def wrapper(*args, **kwargs):\n",
    "        start_time = time.time()\n",
    "        result = func(*args, **kwargs)\n",
    "        end_time = time.time()\n",
    "        execution_time = end_time - start_time\n",
    "        print(f\"{func.__name__} took {execution_time:.2f} seconds to execute\")\n",
    "        return result\n",
    "    return wrapper\n",
    "\n",
    "# Apply the decorator to a function\n",
    "@timing_decorator\n",
    "def some_function():\n",
    "    for _ in range(1000000):\n",
    "        pass\n",
    "\n",
    "some_function()\n",
    "\n",
    "print(f\"hello {123.092229:.3f}\")\n"
   ]
  }
 ],
 "metadata": {
  "kernelspec": {
   "display_name": "Python 3",
   "language": "python",
   "name": "python3"
  },
  "language_info": {
   "codemirror_mode": {
    "name": "ipython",
    "version": 3
   },
   "file_extension": ".py",
   "mimetype": "text/x-python",
   "name": "python",
   "nbconvert_exporter": "python",
   "pygments_lexer": "ipython3",
   "version": "3.9.11"
  }
 },
 "nbformat": 4,
 "nbformat_minor": 2
}
