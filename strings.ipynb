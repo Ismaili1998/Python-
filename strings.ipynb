{
 "cells": [
  {
   "cell_type": "code",
   "execution_count": 29,
   "metadata": {},
   "outputs": [
    {
     "name": "stdout",
     "output_type": "stream",
     "text": [
      "-1\n",
      " Hello, i'm a senior python develoiper. \n",
      "Hello, i'm a senior python develoiper :\n",
      "[' Hello', \"i'm a senior python develoiper : \"]\n",
      " Hello, i'm a senior python develoiper : \n"
     ]
    }
   ],
   "source": [
    "a = \" Hello, i'm a senior python develoiper : \"\n",
    "print(a.find(\"q\"))  # return -1 cause item not found \n",
    "# print(a.index(\"xde\")) generat error cause item not found \n",
    "print(a.replace(' :', '.')) # doesn't change the origin list \n",
    "print(a.strip()) #remove space at beg and at the end =  leading, and trailing white spaces\n",
    "print(a.split(\", \")) #remove space at beg and at the end =  leading, and trailing white spaces \n",
    "print(a)"
   ]
  },
  {
   "cell_type": "code",
   "execution_count": 21,
   "metadata": {},
   "outputs": [],
   "source": [
    "result = a[0:4:2] # (move by 2 step)"
   ]
  },
  {
   "cell_type": "code",
   "execution_count": 28,
   "metadata": {},
   "outputs": [
    {
     "name": "stdout",
     "output_type": "stream",
     "text": [
      "banana\n"
     ]
    }
   ],
   "source": [
    "txt = \",,,,,rrttgg.....banana....rrr...,,\"\n",
    "x = txt.strip(\",.rtg\")\n",
    "print(x)"
   ]
  },
  {
   "cell_type": "code",
   "execution_count": null,
   "metadata": {},
   "outputs": [],
   "source": [
    "def generate(1, 2):\n",
    "    return 1 "
   ]
  }
 ],
 "metadata": {
  "kernelspec": {
   "display_name": "Python 3",
   "language": "python",
   "name": "python3"
  },
  "language_info": {
   "codemirror_mode": {
    "name": "ipython",
    "version": 3
   },
   "file_extension": ".py",
   "mimetype": "text/x-python",
   "name": "python",
   "nbconvert_exporter": "python",
   "pygments_lexer": "ipython3",
   "version": "3.9.11"
  }
 },
 "nbformat": 4,
 "nbformat_minor": 2
}
