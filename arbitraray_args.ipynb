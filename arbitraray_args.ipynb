{
 "cells": [
  {
   "cell_type": "markdown",
   "metadata": {},
   "source": [
    "# unpack Tuples and list "
   ]
  },
  {
   "cell_type": "code",
   "execution_count": 23,
   "metadata": {},
   "outputs": [
    {
     "name": "stdout",
     "output_type": "stream",
     "text": [
      "[400, 120, 500]\n",
      "1 [2]\n"
     ]
    }
   ],
   "source": [
    "# Assign the rest of the values as a list called scores\n",
    "name, age, *scores  = [\"Adam\", 20, 400, 120, 500]\n",
    "print(scores)\n",
    "a, *c = (1, 2)\n",
    "print(a, c)"
   ]
  },
  {
   "cell_type": "code",
   "execution_count": 24,
   "metadata": {},
   "outputs": [
    {
     "data": {
      "text/plain": [
       "\"Hello, hello! You're 12 years old.\""
      ]
     },
     "execution_count": 24,
     "metadata": {},
     "output_type": "execute_result"
    }
   ],
   "source": [
    "\"Hello, {name}! You're {age} years old.\".format(name=\"hello\", age=12)"
   ]
  },
  {
   "cell_type": "code",
   "execution_count": 18,
   "metadata": {},
   "outputs": [
    {
     "name": "stdout",
     "output_type": "stream",
     "text": [
      "Adam\n",
      "{'name': 'Omar'}\n"
     ]
    },
    {
     "data": {
      "text/plain": [
       "'Values: 1 2 !'"
      ]
     },
     "execution_count": 18,
     "metadata": {},
     "output_type": "execute_result"
    }
   ],
   "source": [
    "def my_fun(name):\n",
    "    print(name)\n",
    "    \n",
    "dic = {\"name\":\"Adam\"}\n",
    "my_fun(**dic)\n",
    "\n",
    "def my_fun(**arg):\n",
    "    print(arg)\n",
    "\n",
    "dic = {\"name\":\"Omar\"}\n",
    "my_fun(**dic)\n",
    "\n",
    "# use the dictionary unpacking operator (**) \n",
    "\"Hello, {name} !\".format(**dic)\n",
    "\n",
    "a = [1, 2]\n",
    "# use the dictionary unpacking operator (**) \n",
    "\"Values: {} {} !\".format(*a)"
   ]
  },
  {
   "cell_type": "code",
   "execution_count": 27,
   "metadata": {},
   "outputs": [
    {
     "name": "stdout",
     "output_type": "stream",
     "text": [
      "(1, 2, 3)\n",
      "([1, 2, 3],)\n"
     ]
    }
   ],
   "source": [
    "def a(*arg):\n",
    "    print(arg)\n",
    "\n",
    "\n",
    "arg = [1, 2, 3]\n",
    "a(*arg)\n",
    "a(arg)"
   ]
  }
 ],
 "metadata": {
  "kernelspec": {
   "display_name": "Python 3",
   "language": "python",
   "name": "python3"
  },
  "language_info": {
   "codemirror_mode": {
    "name": "ipython",
    "version": 3
   },
   "file_extension": ".py",
   "mimetype": "text/x-python",
   "name": "python",
   "nbconvert_exporter": "python",
   "pygments_lexer": "ipython3",
   "version": "3.9.11"
  }
 },
 "nbformat": 4,
 "nbformat_minor": 2
}
