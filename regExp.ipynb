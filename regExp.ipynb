{
 "cells": [
  {
   "cell_type": "markdown",
   "metadata": {},
   "source": [
    "What is a Regular Expression ?\n",
    "A regular expression is a sequence of characters that defines a search pattern. It's a way to describe a set of strings with a common structure or pattern. Regular expressions are used for tasks like searching, matching, extracting, and replacing text."
   ]
  },
  {
   "cell_type": "markdown",
   "metadata": {},
   "source": [
    "Function\tDescription\n",
    "findall\tReturns a list containing all matches\n",
    "search\tReturns a Match object if there is a match anywhere in the string\n",
    "split\tReturns a list where the string has been split at each match\n",
    "sub\tReplaces one or many matches with a string"
   ]
  },
  {
   "cell_type": "code",
   "execution_count": 2,
   "metadata": {},
   "outputs": [
    {
     "name": "stdout",
     "output_type": "stream",
     "text": [
      "['Adam', 'omar2', 'Abdou']\n"
     ]
    }
   ],
   "source": [
    "a = [\"ismaili alaoui\", \"omar\", \"Adam\",\"Khalid;\", \"omar2\", \"Abdou\"]\n",
    "import re\n",
    "pattern = r\"(?:^[a-cA-C]|[\\d]$)\"   #[\\d] matches any single digit.\n",
    "filtered_names = [name for name in a if re.search(pattern, name)]\n",
    "print(filtered_names)\n"
   ]
  },
  {
   "cell_type": "code",
   "execution_count": null,
   "metadata": {},
   "outputs": [],
   "source": [
    "# Metacharacters are characters with a special meaning:\n",
    "# ^ Starts with\n",
    "# $ end with \n",
    "# * zero or more occurence\n",
    "# +\tOne or more occurrences\n",
    "# {}\tExactly the specified number of occurrences \n",
    "# ()\tCapture and group\n",
    "# |\tEither or\n",
    "# ?\tZero or one occurrences\n",
    "# [] A set of characters\t\"[a-m]\"\t\n",
    "# \\\tSignals a special sequence (can also be used to escape special characters)\t\n",
    "# .\tAny character (except newline character)"
   ]
  },
  {
   "cell_type": "code",
   "execution_count": null,
   "metadata": {},
   "outputs": [],
   "source": [
    "# [arn]\tReturns a match where one of the specified characters (a, r, or n) is present\t\n",
    "# [a-n]\tReturns a match for any lower case character, alphabetically between a and n\t\n",
    "# [^arn]\tReturns a match for any character EXCEPT a, r, and n\t\n",
    "# [0123]\tReturns a match where any of the specified digits (0, 1, 2, or 3) are present\t\n",
    "# [0-9]\tReturns a match for any digit between 0 and 9\t\n",
    "# [0-5][0-9]\tReturns a match for any two-digit numbers from 00 and 59\t\n",
    "# [a-zA-Z]\tReturns a match for any character alphabetically between a and z, lower case OR upper case\t\n",
    "# [+]\tIn sets, +, *, ., |, (), $,{} has no special meaning, so [+] means: return a match for any + character in the string"
   ]
  },
  {
   "cell_type": "code",
   "execution_count": null,
   "metadata": {},
   "outputs": [],
   "source": [
    "# \\A\tReturns a match if the specified characters are at the beginning of the string\t\"\\AThe\"\t\n",
    "# \\b\tReturns a match where the specified characters are at the beginning or at the end of a word\n",
    "# (the \"r\" in the beginning is making sure that the string is being treated as a \"raw string\")\tr\"\\bain\" r\"ai\n",
    "# \\B\tReturns a match where the specified characters are present, but NOT at the beginning (or at the end) of a word\n",
    "# (the \"r\" in the beginning is making sure that the string is being treated as a \"raw string\")\tr\"\\Bain\" r\"ain\\B\"\t\n",
    "# \\d\tReturns a match where the string contains digits (numbers from 0-9)\t\"\\d\"\t\n",
    "# \\D\tReturns a match where the string DOES NOT contain digits\t\"\\D\"\t\n",
    "# \\s\tReturns a match where the string contains a white space character\t\"\\s\"\t\n",
    "# \\S\tReturns a match where the string DOES NOT contain a white space character\t\"\\S\"\t\n",
    "# \\w\tReturns a match where the string contains any word characters (characters from a to Z, digits from 0-9, and the underscore _ character)\t\"\\w\"\t\n",
    "# \\W\tReturns a match where the string DOES NOT contain any word characters\t\"\\W\"\t\n",
    "# \\Z\tReturns a match if the specified characters are at the end of the string\t\"Spain\\Z\""
   ]
  },
  {
   "cell_type": "code",
   "execution_count": null,
   "metadata": {},
   "outputs": [],
   "source": [
    "import re \n",
    "#sup, findAll, split, Search  "
   ]
  },
  {
   "cell_type": "code",
   "execution_count": 9,
   "metadata": {},
   "outputs": [
    {
     "ename": "AttributeError",
     "evalue": "'Node' object has no attribute 'name'",
     "output_type": "error",
     "traceback": [
      "\u001b[1;31m---------------------------------------------------------------------------\u001b[0m",
      "\u001b[1;31mAttributeError\u001b[0m                            Traceback (most recent call last)",
      "\u001b[1;32mc:\\Users\\ismai\\OneDrive\\Bureau\\Ref\\Python\\regExp.ipynb Cell 8\u001b[0m line \u001b[0;36m1\n\u001b[0;32m     <a href='vscode-notebook-cell:/c%3A/Users/ismai/OneDrive/Bureau/Ref/Python/regExp.ipynb#X10sZmlsZQ%3D%3D?line=9'>10</a>\u001b[0m \u001b[39mdir\u001b[39m(node)\n\u001b[0;32m     <a href='vscode-notebook-cell:/c%3A/Users/ismai/OneDrive/Bureau/Ref/Python/regExp.ipynb#X10sZmlsZQ%3D%3D?line=10'>11</a>\u001b[0m \u001b[39mdel\u001b[39;00m node\u001b[39m.\u001b[39mname\n\u001b[1;32m---> <a href='vscode-notebook-cell:/c%3A/Users/ismai/OneDrive/Bureau/Ref/Python/regExp.ipynb#X10sZmlsZQ%3D%3D?line=11'>12</a>\u001b[0m node\u001b[39m.\u001b[39;49mname\n",
      "\u001b[1;31mAttributeError\u001b[0m: 'Node' object has no attribute 'name'"
     ]
    }
   ],
   "source": [
    "class Node:\n",
    "    def __init__(self, name=\"\"):\n",
    "        self.name = name\n",
    "        self.age = 1200\n",
    "    \n",
    "    def syaHello():\n",
    "        print()\n",
    "\n",
    "node = Node()\n",
    "dir(node)\n",
    "node.name"
   ]
  }
 ],
 "metadata": {
  "kernelspec": {
   "display_name": "Python 3",
   "language": "python",
   "name": "python3"
  },
  "language_info": {
   "codemirror_mode": {
    "name": "ipython",
    "version": 3
   },
   "file_extension": ".py",
   "mimetype": "text/x-python",
   "name": "python",
   "nbconvert_exporter": "python",
   "pygments_lexer": "ipython3",
   "version": "3.9.11"
  }
 },
 "nbformat": 4,
 "nbformat_minor": 2
}
